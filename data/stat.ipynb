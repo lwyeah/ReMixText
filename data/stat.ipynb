{
 "metadata": {
  "language_info": {
   "codemirror_mode": {
    "name": "ipython",
    "version": 3
   },
   "file_extension": ".py",
   "mimetype": "text/x-python",
   "name": "python",
   "nbconvert_exporter": "python",
   "pygments_lexer": "ipython3",
   "version": "3.7.4-final"
  },
  "orig_nbformat": 2,
  "kernelspec": {
   "name": "python3",
   "display_name": "Python 3.7.4 64-bit (virtualenv)",
   "metadata": {
    "interpreter": {
     "hash": "07efdcd4b820c98a756949507a4d29d7862823915ec7477944641bea022f4f62"
    }
   }
  }
 },
 "nbformat": 4,
 "nbformat_minor": 2,
 "cells": [
  {
   "cell_type": "code",
   "execution_count": 6,
   "metadata": {},
   "outputs": [],
   "source": [
    "import pickle as pk\n",
    "from collections import Counter"
   ]
  },
  {
   "cell_type": "code",
   "execution_count": 2,
   "metadata": {},
   "outputs": [],
   "source": [
    "f = \"./generated_stack_3_0.1_charswap.pkl\"\n",
    "data = pk.load(open(f, \"rb\"))"
   ]
  },
  {
   "cell_type": "code",
   "execution_count": 3,
   "metadata": {},
   "outputs": [
    {
     "output_type": "stream",
     "name": "stdout",
     "text": [
      "dict_keys(['full_csv_data', 'picked_csv_data', 'generated_csv_data', 'loaded_data', 'generated_loaded_data', 'label2id', 'transformations_per_example'])\n"
     ]
    }
   ],
   "source": [
    "print(data.keys())"
   ]
  },
  {
   "cell_type": "code",
   "execution_count": 4,
   "metadata": {},
   "outputs": [
    {
     "output_type": "stream",
     "name": "stdout",
     "text": [
      "*****\n['0', \"How do I calculate someone's age in C#?\", \"<p>Given a <code>DateTime</code> representing a person's birthday; how do I calculate their age?  </p>\", '###c####.net###datetime']\n*****\n[['0', \"Ho do I calculate someone's age in C#?\", \"<p>Given a <code>DateTime</code> representing a person's birthday; how do I calculate their age?  </p>\", '###c####.net###datetime'], ['0', \"How do I calculate someone's are in C#?\", \"<p>Given a <code>DateTime</code> representing a person's birthday; how do I calculate their age?  </p>\", '###c####.net###datetime'], ['0', \"How do I calculate someonye's age in C#?\", \"<p>Given a <code>DateTime</code> representing a person's birthday; how do I calculate their age?  </p>\", '###c####.net###datetime']]\n*****\n{'text': 'how do i calculate someones age in c pgiven a codedatetimecode representing a persons birthday how do i calculate their age p', 'catgy': [0, 1]}\n*****\n{'text': 'ho do i calculate someones age in c pgiven a codedatetimecode representing a persons birthday how do i calculate their age p', 'catgy': [0, 1]}\n"
     ]
    }
   ],
   "source": [
    "print(\"*\" * 5)\n",
    "print(data['picked_csv_data'][0])\n",
    "print(\"*\" * 5)\n",
    "print(data['generated_csv_data'][:3])\n",
    "print(\"*\" * 5)\n",
    "print(data['loaded_data'][0])\n",
    "print(\"*\" * 5)\n",
    "print(data['generated_loaded_data'][0])"
   ]
  },
  {
   "cell_type": "code",
   "execution_count": 7,
   "metadata": {},
   "outputs": [
    {
     "output_type": "stream",
     "name": "stdout",
     "text": [
      "Counter({1: 11979, 18: 6725, 0: 6446, 6: 5881, 37: 5518, 15: 5508, 12: 4667, 14: 4188, 3: 4046, 4: 3115, 8: 2939, 29: 2666, 13: 2367, 7: 2281, 24: 2029, 16: 1977, 17: 1914, 21: 1861, 11: 1810, 38: 1746, 2: 1712, 23: 1682, 39: 1560, 19: 1508, 35: 1434, 26: 1402, 34: 1344, 27: 1274, 5: 1269, 22: 1256, 36: 1240, 42: 1198, 33: 1183, 28: 1154, 30: 1086, 25: 1002, 9: 973, 10: 956, 20: 933, 31: 927, 40: 921, 32: 768, 41: 536})\n"
     ]
    }
   ],
   "source": [
    "cnt = Counter()\n",
    "for d in data['loaded_data']:\n",
    "    for l in d['catgy']:\n",
    "        cnt[l] += 1\n"
   ]
  },
  {
   "cell_type": "code",
   "execution_count": 18,
   "metadata": {
    "tags": []
   },
   "outputs": [],
   "source": [
    "import copy\n",
    "rdata = copy.deepcopy(data['loaded_data'])\n",
    "gdata = copy.deepcopy(data['generated_loaded_data'])\n",
    "for i in range(len(rdata)):\n",
    "    rdata[i][\"id\"] = i\n",
    "    rdata[i][\"labels\"] = rdata[i][\"catgy\"]\n",
    "    del rdata[i][\"catgy\"]\n",
    "    for j in range(3):\n",
    "        gdata[3*i+j][\"id\"] = i\n",
    "        gdata[3*i+j][\"labels\"] = gdata[3*i+j][\"catgy\"]\n",
    "        del gdata[3*i+j][\"catgy\"]\n",
    "pk.dump(rdata, open(\"stackoverflow/data.pkl\", \"wb\"))\n",
    "pk.dump(gdata, open(\"stackoverflow/generated_data.pkl\", \"wb\"))\n",
    "label2id = copy.deepcopy(data['label2id'])\n",
    "label2id = list(label2id.items())\n",
    "label2id.sort(key=lambda x: x[1])\n",
    "labels = [it[0] for it in label2id]\n",
    "with open(\"stackoverflow/labels.txt\", \"w\") as f:\n",
    "    for label in labels:\n",
    "        f.write(label + \"\\n\")"
   ]
  },
  {
   "source": [
    "print(len(data['label2id']))"
   ],
   "cell_type": "code",
   "metadata": {},
   "execution_count": 19,
   "outputs": [
    {
     "output_type": "stream",
     "name": "stdout",
     "text": [
      "43\n"
     ]
    }
   ]
  },
  {
   "cell_type": "code",
   "execution_count": 20,
   "metadata": {},
   "outputs": [],
   "source": [
    "data = pk.load(open(\"stackoverflow/data.pkl\", \"rb\"))\n",
    "gdata = pk.load(open(\"stackoverflow/generated_data.pkl\", \"rb\"))"
   ]
  },
  {
   "cell_type": "code",
   "execution_count": 21,
   "metadata": {},
   "outputs": [
    {
     "output_type": "stream",
     "name": "stdout",
     "text": [
      "data length 46407, generated data length 139221\n"
     ]
    }
   ],
   "source": [
    "print(f\"data length {len(data)}, generated data length {len(gdata)}\")"
   ]
  },
  {
   "cell_type": "code",
   "execution_count": 22,
   "metadata": {},
   "outputs": [
    {
     "output_type": "stream",
     "name": "stdout",
     "text": [
      "{'text': 'how do i calculate someones age in c pgiven a codedatetimecode representing a persons birthday how do i calculate their age p', 'id': 0, 'labels': [0, 1]}\n**********\n[{'text': 'ho do i calculate someones age in c pgiven a codedatetimecode representing a persons birthday how do i calculate their age p', 'id': 0, 'labels': [0, 1]}, {'text': 'how do i calculate someones are in c pgiven a codedatetimecode representing a persons birthday how do i calculate their age p', 'id': 0, 'labels': [0, 1]}, {'text': 'how do i calculate someonyes age in c pgiven a codedatetimecode representing a persons birthday how do i calculate their age p', 'id': 0, 'labels': [0, 1]}]\n"
     ]
    }
   ],
   "source": [
    "print(data[0])\n",
    "print(\"*\" * 10)\n",
    "print(gdata[0:3])"
   ]
  },
  {
   "cell_type": "code",
   "execution_count": null,
   "metadata": {},
   "outputs": [],
   "source": []
  }
 ]
}